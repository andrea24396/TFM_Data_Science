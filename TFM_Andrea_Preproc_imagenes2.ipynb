{
 "cells": [
  {
   "cell_type": "code",
   "execution_count": 1,
   "metadata": {},
   "outputs": [],
   "source": [
    "import os\n",
    "import numpy as np\n",
    "import pandas as pd"
   ]
  },
  {
   "cell_type": "code",
   "execution_count": 2,
   "metadata": {},
   "outputs": [],
   "source": [
    "import matplotlib.pyplot as plt\n",
    "from scipy import ndimage"
   ]
  },
  {
   "cell_type": "code",
   "execution_count": 3,
   "metadata": {},
   "outputs": [],
   "source": [
    "import nibabel as nib"
   ]
  },
  {
   "cell_type": "markdown",
   "metadata": {},
   "source": [
    "## Training data"
   ]
  },
  {
   "cell_type": "code",
   "execution_count": 4,
   "metadata": {
    "scrolled": true
   },
   "outputs": [],
   "source": [
    "\n",
    "data_path = 'TFM_data/Training_t1ce/'# Carpeta donde están los 162 archivos _t1ce.nii.gz\n",
    "seg_path = 'TFM_data/Training_seg/' # Carpeta con los 162 archivos _seg.nii.gz\n",
    "\n",
    "imgs_names = []\n",
    "    \n",
    "for base, dirs, files in os.walk(data_path):\n",
    "    imgs_names = files\n"
   ]
  },
  {
   "cell_type": "code",
   "execution_count": 5,
   "metadata": {
    "scrolled": true
   },
   "outputs": [],
   "source": [
    "imgs_names.sort()\n",
    "# imgs_names"
   ]
  },
  {
   "cell_type": "code",
   "execution_count": 6,
   "metadata": {},
   "outputs": [
    {
     "data": {
      "text/plain": [
       "'Brats18_2013_13_1_'"
      ]
     },
     "execution_count": 6,
     "metadata": {},
     "output_type": "execute_result"
    }
   ],
   "source": [
    "imgs_names[3][:-11] # toma hasta los ultimos 11 elementos que es donde aparece el tipo de archivo"
   ]
  },
  {
   "cell_type": "code",
   "execution_count": 7,
   "metadata": {
    "scrolled": true
   },
   "outputs": [],
   "source": [
    "# modificamos el nombre para que tengan la ruta para poder cargarlos con nib.load \n",
    "tags_names = imgs_names.copy()\n",
    "\n",
    "for i in range(len(imgs_names)):\n",
    "    imgs_names[i] = data_path + imgs_names[i]\n",
    "    tags_names[i] = seg_path + tags_names[i][:-11] + 'seg.nii.gz'\n"
   ]
  },
  {
   "cell_type": "code",
   "execution_count": 8,
   "metadata": {},
   "outputs": [],
   "source": [
    "# creamos las listas vacías donde se almacenarán las imágenes\n",
    "data = []\n",
    "imagenes = []\n",
    "\n",
    "for i in range(len(imgs_names)):\n",
    "    data.append(nib.load(imgs_names[i]))\n",
    "    imagenes.append(data[i].get_data())\n",
    "    "
   ]
  },
  {
   "cell_type": "code",
   "execution_count": 9,
   "metadata": {},
   "outputs": [],
   "source": [
    "# hacemos lo mismo pero para las etiquetas\n",
    "data_seg = []\n",
    "etiquetas = []\n",
    "\n",
    "for i in range(len(tags_names)):\n",
    "    data_seg.append(nib.load(tags_names[i]))\n",
    "    etiquetas.append(data_seg[i].get_data())"
   ]
  },
  {
   "cell_type": "markdown",
   "metadata": {},
   "source": [
    "### Explorando los datos"
   ]
  },
  {
   "cell_type": "code",
   "execution_count": 10,
   "metadata": {},
   "outputs": [
    {
     "data": {
      "text/plain": [
       "162"
      ]
     },
     "execution_count": 10,
     "metadata": {},
     "output_type": "execute_result"
    }
   ],
   "source": [
    "len(imagenes) # número de pacientes"
   ]
  },
  {
   "cell_type": "code",
   "execution_count": 11,
   "metadata": {},
   "outputs": [
    {
     "data": {
      "text/plain": [
       "(240, 240, 155)"
      ]
     },
     "execution_count": 11,
     "metadata": {},
     "output_type": "execute_result"
    }
   ],
   "source": [
    "imagenes[1].shape # dimensión de datos por paciente (cada cerebro dividido en 240 rebanadas)"
   ]
  },
  {
   "cell_type": "code",
   "execution_count": 12,
   "metadata": {},
   "outputs": [
    {
     "name": "stdout",
     "output_type": "stream",
     "text": [
      "Dimension de una imagen axial de RM:  (240, 240)\n"
     ]
    }
   ],
   "source": [
    "print(\"Dimension de una imagen axial de RM: \",imagenes[1][:,:,4].shape)"
   ]
  },
  {
   "cell_type": "markdown",
   "metadata": {},
   "source": [
    "## Eliminamos la agrupación de imágenes y etiquetas por paciente"
   ]
  },
  {
   "cell_type": "markdown",
   "metadata": {},
   "source": [
    "El siguiente paso se realiza en tres pasos por separado, ya que al hacerlo en un solo paso tardaba mucho en ejecutar.\n",
    "Los tres arrays resultantes se concatenarán al final en uno solo."
   ]
  },
  {
   "cell_type": "code",
   "execution_count": 22,
   "metadata": {},
   "outputs": [],
   "source": [
    "imagenes = np.asarray(imagenes)\n",
    "imagenes2 = imagenes.copy()"
   ]
  },
  {
   "cell_type": "code",
   "execution_count": 23,
   "metadata": {},
   "outputs": [],
   "source": [
    "# invertimos el orden de los ejes para poder eliminar la agrupación por pacientes\n",
    "imagenes2 = np.transpose(imagenes2, (0,3,2,1)) "
   ]
  },
  {
   "cell_type": "code",
   "execution_count": 24,
   "metadata": {},
   "outputs": [
    {
     "data": {
      "text/plain": [
       "(162, 155, 240, 240)"
      ]
     },
     "execution_count": 24,
     "metadata": {},
     "output_type": "execute_result"
    }
   ],
   "source": [
    "imagenes2.shape"
   ]
  },
  {
   "cell_type": "code",
   "execution_count": 25,
   "metadata": {},
   "outputs": [],
   "source": [
    "# agrupamos los dos primeros índices\n",
    "x = np.reshape(a=imagenes2, newshape=(25110,240,240))"
   ]
  },
  {
   "cell_type": "code",
   "execution_count": 26,
   "metadata": {},
   "outputs": [
    {
     "data": {
      "text/plain": [
       "(25110, 240, 240)"
      ]
     },
     "execution_count": 26,
     "metadata": {},
     "output_type": "execute_result"
    }
   ],
   "source": [
    "x.shape"
   ]
  },
  {
   "cell_type": "code",
   "execution_count": 28,
   "metadata": {},
   "outputs": [],
   "source": [
    "# Guardamos este array de imagenes\n",
    "np.save('x.npy', x)"
   ]
  },
  {
   "cell_type": "code",
   "execution_count": 30,
   "metadata": {},
   "outputs": [],
   "source": [
    "# ETIQUETAS\n",
    "etiquetas = np.asarray(etiquetas)\n",
    "etiquetas2 = etiquetas.copy()"
   ]
  },
  {
   "cell_type": "code",
   "execution_count": 31,
   "metadata": {},
   "outputs": [],
   "source": [
    "etiquetas2 = np.transpose(etiquetas2, (0,3,2,1))\n",
    "y = np.reshape(a=etiquetas2, newshape=(25110,240,240))"
   ]
  },
  {
   "cell_type": "code",
   "execution_count": 32,
   "metadata": {},
   "outputs": [
    {
     "data": {
      "text/plain": [
       "(25110, 240, 240)"
      ]
     },
     "execution_count": 32,
     "metadata": {},
     "output_type": "execute_result"
    }
   ],
   "source": [
    "y.shape"
   ]
  },
  {
   "cell_type": "code",
   "execution_count": 40,
   "metadata": {},
   "outputs": [
    {
     "data": {
      "image/png": "[encoded data removed]",
      "text/plain": [
       "<matplotlib.figure.Figure at 0x7fca72528eb8>"
      ]
     },
     "metadata": {
      "needs_background": "light"
     },
     "output_type": "display_data"
    }
   ],
   "source": [
    "plt.subplot(1,2, 1)\n",
    "plt.imshow(x[25050], cmap='gray')\n",
    "plt.title('Imagen')\n",
    "\n",
    "plt.subplot(1,2, 2)\n",
    "plt.imshow(y[25050], cmap='gray')\n",
    "plt.title('Etiqueta')\n",
    "\n",
    "plt.show()"
   ]
  },
  {
   "cell_type": "code",
   "execution_count": 23,
   "metadata": {},
   "outputs": [],
   "source": [
    "# Guardamos este array de etiquetas\n",
    "np.save('y.npy', y)"
   ]
  },
  {
   "cell_type": "markdown",
   "metadata": {},
   "source": [
    "---"
   ]
  },
  {
   "cell_type": "markdown",
   "metadata": {},
   "source": [
    "##  Cargar los datos (solo si se empieza desde este punto)"
   ]
  },
  {
   "cell_type": "code",
   "execution_count": 4,
   "metadata": {},
   "outputs": [],
   "source": [
    "# x = np.load('x.npy')\n",
    "# y = np.load('y.npy')"
   ]
  },
  {
   "cell_type": "code",
   "execution_count": 41,
   "metadata": {},
   "outputs": [],
   "source": [
    "# Copia de los datos, por si hubiera que volver a usarlos.\n",
    "prueba = x.copy() \n",
    "pruebaetiq = y.copy() "
   ]
  },
  {
   "cell_type": "markdown",
   "metadata": {},
   "source": [
    "----------------------"
   ]
  },
  {
   "cell_type": "markdown",
   "metadata": {},
   "source": [
    "## Reducir el dataset"
   ]
  },
  {
   "cell_type": "markdown",
   "metadata": {},
   "source": [
    "Dado que si entrenamos la red con la totalidad de las imágenes se demoraría mucho, los dos procedimientos seguidos para acortar el dataset son los siguientes:\n",
    "\n",
    "- **Eliminar imágenes del dataset de TCIA.** Esto se debe a que la calidad de las imágenes es bastante baja en comparación con la de otras imágenes de los otros datsets. Este conjunto de datos lo componen los últimos 54 pacientes, por lo que habrá un total de 12960 imágenes procedentes de este dataset.\n",
    "\n",
    "- **Eliminar las imágenes del principio y final del escáner de RM del paciente.** Estas primeras y últimas imágenes serán completamente negras, por lo que no aportarán ningún tipo de información a nuestro entrenamiento, y lo único que harían sería demorarlo."
   ]
  },
  {
   "cell_type": "code",
   "execution_count": 42,
   "metadata": {},
   "outputs": [],
   "source": [
    "# Nos quedamos con todas las imágenes, menos las 12960 últimas. \n",
    "# Es decir, tomamos las 25920 primeras imágenes de nuestro conjunto\n",
    "\n",
    "prueba = prueba[0:25920]\n",
    "pruebaetiq = pruebaetiq[0:25920]"
   ]
  },
  {
   "cell_type": "markdown",
   "metadata": {},
   "source": [
    "## Normalización imágenes"
   ]
  },
  {
   "cell_type": "markdown",
   "metadata": {},
   "source": [
    "Crearemos una función que normalice las imágenes. Para ello, buscará el valor máximo de cada imagen, y la dividirá toda ella por este valor. De este modo, el mapa de píxeles que compondrá la imagen tendrá un rango de 0 a 1.\n",
    "\n",
    "Asímismo, esta función no hará ninguna acción sobre las imágenes que sean totalmente negras, es decir, las que se componen exclusivamente por 0s. Estas las dejará intactas, puesto que si las dividiera por su máximo (en este caso, 0), serían matrices compuestas por nan. De este modo, las imágenes seguirán siendo mapas de 0s."
   ]
  },
  {
   "cell_type": "code",
   "execution_count": 43,
   "metadata": {},
   "outputs": [],
   "source": [
    "def normalizar(imagenes):\n",
    "    \"\"\"Normaliza las imágenes contenidas en el array que se pasa como parámetro,\n",
    "    dividiéndo el valor de todos sus píxeles por el máximo.\n",
    "    No hace nada si la imagen es totalmente negra, i.e. suma = 0.\n",
    "    De este modo el mapa de píxeles tendrá valores entre 0 y 1\"\"\"\n",
    "    imgs = imagenes.copy()\n",
    "    \n",
    "    imgs_norm = [imgs[i]/np.max(imgs[i]) if np.sum(imgs[i])!=0 else imgs[i] for i in range(len(imgs)) ]  \n",
    "    imgs_norm = np.asarray(imgs_norm)\n",
    "        \n",
    "    return imgs_norm"
   ]
  },
  {
   "cell_type": "code",
   "execution_count": 44,
   "metadata": {},
   "outputs": [],
   "source": [
    "# Normalizamos ahora las imágenes\n",
    "prueba2 = normalizar(prueba)"
   ]
  },
  {
   "cell_type": "code",
   "execution_count": 46,
   "metadata": {
    "scrolled": false
   },
   "outputs": [
    {
     "name": "stdout",
     "output_type": "stream",
     "text": [
      "Antes de normalizar:\n",
      "[   0    0    0    0    0    0    0    0    0    0    0    0    0    0\n",
      "    0    0    0    0    0    0    0    0    0    0    0    0    0    0\n",
      "    0    0    0    0    0    0    0    0    0    0    0    0    0    0\n",
      "    0    0    0    0    0    0    0    0    0    0    0    0    0   75\n",
      "   96  307  600  569  526  561  549  616  650  674  881  946  664  488\n",
      "  759 1203 1385 1210  942  813  681  450  343  388  425  422  420  440\n",
      "  473  483  494  514  502  489  489  483  485  502  550  607  600  639\n",
      "  937 1269 1201  817  565  550  544  498  482  490  490  468  452  451\n",
      "  447  474  554  615  612  588  586  589  580  560  509  478  490  387\n",
      "  261  326  446  466  483  532  565  588  599  606  614  603  589  578\n",
      "  560  561  575  561  539  539  519  532  587  507  356  390  532  576\n",
      "  558  572  554  512  476  427  457  489  372  342  455  445  387  437\n",
      "  518  583  614  580  558  583  587  569  544  525  515  489  493  484\n",
      "  115    0    0    0    0    0    0    0    0    0    0    0    0    0\n",
      "    0    0    0    0    0    0    0    0    0    0    0    0    0    0\n",
      "    0    0    0    0    0    0    0    0    0    0    0    0    0    0\n",
      "    0    0    0    0    0    0    0    0    0    0    0    0    0    0\n",
      "    0    0]\n",
      "\n",
      "Después de normalizar:\n",
      "[0.         0.         0.         0.         0.         0.\n",
      " 0.         0.         0.         0.         0.         0.\n",
      " 0.         0.         0.         0.         0.         0.\n",
      " 0.         0.         0.         0.         0.         0.\n",
      " 0.         0.         0.         0.         0.         0.\n",
      " 0.         0.         0.         0.         0.         0.\n",
      " 0.         0.         0.         0.         0.         0.\n",
      " 0.         0.         0.         0.         0.         0.\n",
      " 0.         0.         0.         0.         0.         0.\n",
      " 0.         0.05119454 0.06552901 0.20955631 0.40955631 0.3883959\n",
      " 0.35904437 0.38293515 0.37474403 0.42047782 0.44368601 0.46006826\n",
      " 0.60136519 0.64573379 0.45324232 0.3331058  0.51808874 0.82116041\n",
      " 0.94539249 0.82593857 0.64300341 0.55494881 0.46484642 0.30716724\n",
      " 0.23412969 0.26484642 0.29010239 0.28805461 0.28668942 0.3003413\n",
      " 0.32286689 0.32969283 0.33720137 0.35085324 0.34266212 0.3337884\n",
      " 0.3337884  0.32969283 0.33105802 0.34266212 0.37542662 0.41433447\n",
      " 0.40955631 0.43617747 0.63959044 0.8662116  0.81979522 0.55767918\n",
      " 0.38566553 0.37542662 0.37133106 0.33993174 0.32901024 0.33447099\n",
      " 0.33447099 0.31945392 0.30853242 0.30784983 0.30511945 0.32354949\n",
      " 0.378157   0.41979522 0.41774744 0.40136519 0.4        0.40204778\n",
      " 0.39590444 0.38225256 0.34744027 0.32627986 0.33447099 0.26416382\n",
      " 0.178157   0.2225256  0.30443686 0.31808874 0.32969283 0.36313993\n",
      " 0.38566553 0.40136519 0.40887372 0.41365188 0.41911263 0.4116041\n",
      " 0.40204778 0.39453925 0.38225256 0.38293515 0.39249147 0.38293515\n",
      " 0.36791809 0.36791809 0.35426621 0.36313993 0.40068259 0.34607509\n",
      " 0.24300341 0.2662116  0.36313993 0.39317406 0.38088737 0.39044369\n",
      " 0.378157   0.34948805 0.32491468 0.29146758 0.31194539 0.3337884\n",
      " 0.25392491 0.2334471  0.3105802  0.30375427 0.26416382 0.29829352\n",
      " 0.35358362 0.39795222 0.41911263 0.39590444 0.38088737 0.39795222\n",
      " 0.40068259 0.3883959  0.37133106 0.35836177 0.35153584 0.3337884\n",
      " 0.33651877 0.33037543 0.07849829 0.         0.         0.\n",
      " 0.         0.         0.         0.         0.         0.\n",
      " 0.         0.         0.         0.         0.         0.\n",
      " 0.         0.         0.         0.         0.         0.\n",
      " 0.         0.         0.         0.         0.         0.\n",
      " 0.         0.         0.         0.         0.         0.\n",
      " 0.         0.         0.         0.         0.         0.\n",
      " 0.         0.         0.         0.         0.         0.\n",
      " 0.         0.         0.         0.         0.         0.\n",
      " 0.         0.         0.         0.         0.         0.        ]\n",
      "\n",
      "Imagen negra después de normalizar:\n",
      "[0. 0. 0. 0. 0. 0. 0. 0. 0. 0. 0. 0. 0. 0. 0. 0. 0. 0. 0. 0. 0. 0. 0. 0.\n",
      " 0. 0. 0. 0. 0. 0. 0. 0. 0. 0. 0. 0. 0. 0. 0. 0. 0. 0. 0. 0. 0. 0. 0. 0.\n",
      " 0. 0. 0. 0. 0. 0. 0. 0. 0. 0. 0. 0. 0. 0. 0. 0. 0. 0. 0. 0. 0. 0. 0. 0.\n",
      " 0. 0. 0. 0. 0. 0. 0. 0. 0. 0. 0. 0. 0. 0. 0. 0. 0. 0. 0. 0. 0. 0. 0. 0.\n",
      " 0. 0. 0. 0. 0. 0. 0. 0. 0. 0. 0. 0. 0. 0. 0. 0. 0. 0. 0. 0. 0. 0. 0. 0.\n",
      " 0. 0. 0. 0. 0. 0. 0. 0. 0. 0. 0. 0. 0. 0. 0. 0. 0. 0. 0. 0. 0. 0. 0. 0.\n",
      " 0. 0. 0. 0. 0. 0. 0. 0. 0. 0. 0. 0. 0. 0. 0. 0. 0. 0. 0. 0. 0. 0. 0. 0.\n",
      " 0. 0. 0. 0. 0. 0. 0. 0. 0. 0. 0. 0. 0. 0. 0. 0. 0. 0. 0. 0. 0. 0. 0. 0.\n",
      " 0. 0. 0. 0. 0. 0. 0. 0. 0. 0. 0. 0. 0. 0. 0. 0. 0. 0. 0. 0. 0. 0. 0. 0.\n",
      " 0. 0. 0. 0. 0. 0. 0. 0. 0. 0. 0. 0. 0. 0. 0. 0. 0. 0. 0. 0. 0. 0. 0. 0.]\n"
     ]
    }
   ],
   "source": [
    "# Comprobamos que efectivamente se han normalizado las imágenes, \n",
    "# tomando un elemento cualquiera de nuestro array inicial, y el mismo\n",
    "# del nuevo array, para ver si los píxeles tienen valores entre 0 y 1\n",
    "\n",
    "print('Antes de normalizar:')\n",
    "print(prueba[65][120])\n",
    "print('')\n",
    "print('Después de normalizar:')\n",
    "print(prueba2[65][120])\n",
    "\n",
    "# Comprobamos también que las imágenes inciales, compuestas solo por 0s, siguen igual y no aparecen como nan\n",
    "print('')\n",
    "print('Imagen negra después de normalizar:')\n",
    "print(prueba2[1][120])"
   ]
  },
  {
   "cell_type": "markdown",
   "metadata": {},
   "source": [
    "## Eliminar imágenes negras"
   ]
  },
  {
   "cell_type": "markdown",
   "metadata": {},
   "source": [
    "Las primeras y últimas imágenes de cada escáner de RM son totalmente negras, por lo que no aportan ninguna información útil a nuestra red. Es por esto que las eliminaremos para reducir las dimensiones de nuestro dataset y que el entrenamiento de la red neuronal no se demore demasiado.\n",
    "\n",
    "También es conveniente eliminar aquellas imágenes que son prácticamente negras en su totalidad y tampoco aportan mucha info para el entrenamiento. Estas imágenes tienen píxeles distintos de 0, pero estableceremos un umbral (suma de los píxeles de la imagen) mínimo a partir del cual consideraremos que la imagen aporta información relevante a nuestra red.\n"
   ]
  },
  {
   "cell_type": "code",
   "execution_count": 47,
   "metadata": {},
   "outputs": [],
   "source": [
    "def eliminar_no_relevantes(imagenes, etiquetas, umbral): \n",
    "    \"\"\"Del array de imágenes de rebanadas de cerebro que se pasa, guarda el índice de aquellas \n",
    "    cuya suma sea inferior a un umbral, ya que serán imágenes casi completamente negras que no aporten mucha información. \n",
    "    Se obtienen los índices de las imágenes que nos interesan y se hace slicing del array original con estos índices.\n",
    "    Hace lo mismo con las etiquetas correspondientes.\"\"\"\n",
    "    \n",
    "    # posiciones de las imágenes casi enteras negras\n",
    "    indices_negras = [i for i,img in enumerate(imagenes) if np.sum(imagenes[i]) < umbral]\n",
    "    indices_negras = np.asarray(indices_negras) # convertimos la lista a array\n",
    "    \n",
    "    indices_todas = np.arange(len(imagenes))\n",
    "    \n",
    "    # posiciones de las imágenes con las que nos queremos quedar\n",
    "    ind_buenas = np.setdiff1d(indices_todas, indices_negras)\n",
    "    \n",
    "    imagenes2 = imagenes[ind_buenas]\n",
    "    etiquetas2 = etiquetas[ind_buenas]\n",
    "    \n",
    "    return imagenes2, etiquetas2"
   ]
  },
  {
   "cell_type": "markdown",
   "metadata": {},
   "source": [
    "Vamos a mostrar algunas imágenes con sus etiquetas correspondientes. Además, buscaremos una imagen que consideremos que no aporta la suficiente información relevante para nuestra red y obtendremos la suma de sus píxeles. \n",
    "\n",
    "Este valor nos servirá como umbral de referencia para eliminar otras imágenes poco relevantes."
   ]
  },
  {
   "cell_type": "code",
   "execution_count": 59,
   "metadata": {},
   "outputs": [
    {
     "data": {
      "image/png": "[encoded data removed]",
      "text/plain": [
       "<matplotlib.figure.Figure at 0x7fca7256d908>"
      ]
     },
     "metadata": {
      "needs_background": "light"
     },
     "output_type": "display_data"
    }
   ],
   "source": [
    "fig = plt.figure(figsize = (10, 9))\n",
    "\n",
    "\n",
    "plt.subplot(2,3, 1)\n",
    "plt.imshow(prueba2[265],cmap='gray')\n",
    "plt.title('Suma = {}'.format(round(np.sum(prueba2[265]),3)))\n",
    "\n",
    "plt.subplot(2,3, 2)\n",
    "plt.imshow(prueba2[275],cmap='gray')\n",
    "plt.title('Suma = {}'.format(round(np.sum(prueba2[275]),3)))\n",
    "\n",
    "plt.subplot(2,3, 3)\n",
    "plt.imshow(prueba2[285],cmap='gray')\n",
    "plt.title('Suma = {}'.format(round(np.sum(prueba2[285]),3)))\n",
    "\n",
    "\n",
    "plt.subplot(2,3, 4)\n",
    "plt.imshow(pruebaetiq[265],cmap='gray')\n",
    "\n",
    "plt.subplot(2,3, 5)\n",
    "plt.imshow(pruebaetiq[275],cmap='gray')\n",
    "\n",
    "plt.subplot(2,3, 6)\n",
    "plt.imshow(pruebaetiq[285],cmap='gray')\n",
    "\n",
    "plt.show()"
   ]
  },
  {
   "cell_type": "markdown",
   "metadata": {},
   "source": [
    "Vemos que la imagen de la derecha, correspondiente a la rebanada 316, ya empieza a mostrar la estructura casi completa del cerebro, por lo que eliminar imágenes similares a esta sería perder información.\n",
    "\n",
    "Sin embargo, la imagen central (y menos aún la de la izquierda), todavía no muestran la suficiente información relevante para nuestra red neuronal. Por tanto, obtendremos la suma de los píxeles de la imagen 306 para establecer el umbral. \n",
    "**Este paso es muy importante realizarlo después de haber normalizado las imágenes, para que el umbral sirva por igual a todas.**"
   ]
  },
  {
   "cell_type": "code",
   "execution_count": 60,
   "metadata": {},
   "outputs": [
    {
     "name": "stdout",
     "output_type": "stream",
     "text": [
      "Suma de los píxeles de la rebanada 275:  2853.380710659899\n"
     ]
    }
   ],
   "source": [
    "print('Suma de los píxeles de la rebanada 275: ',np.sum(prueba2[275]))"
   ]
  },
  {
   "cell_type": "markdown",
   "metadata": {},
   "source": [
    "Observando este valor, tomaremos 2500 como umbral de referencia para eliminar aquellas imágenes cuya suma del valor de sus píxeles no supere esta cantidad."
   ]
  },
  {
   "cell_type": "code",
   "execution_count": 61,
   "metadata": {},
   "outputs": [
    {
     "name": "stdout",
     "output_type": "stream",
     "text": [
      "Antes de eliminar las imágenes poco relevantes, nuestro dataset tenía:\n",
      "25110 imágenes\n",
      "25110 etiquetas\n"
     ]
    }
   ],
   "source": [
    "print('Antes de eliminar las imágenes poco relevantes, nuestro dataset tenía:')\n",
    "print(len(prueba2), 'imágenes')\n",
    "print(len(pruebaetiq), 'etiquetas')"
   ]
  },
  {
   "cell_type": "code",
   "execution_count": 62,
   "metadata": {},
   "outputs": [],
   "source": [
    "imgs,tags = eliminar_no_relevantes(imagenes=prueba2, etiquetas=pruebaetiq, umbral=2500)"
   ]
  },
  {
   "cell_type": "code",
   "execution_count": 63,
   "metadata": {},
   "outputs": [
    {
     "name": "stdout",
     "output_type": "stream",
     "text": [
      "Después de eliminar las imágenes poco relevantes, nuestro dataset tiene:\n",
      "14379 imágenes\n",
      "14379 etiquetas\n"
     ]
    }
   ],
   "source": [
    "print('Después de eliminar las imágenes poco relevantes, nuestro dataset tiene:')\n",
    "print(len(imgs), 'imágenes')\n",
    "print(len(tags), 'etiquetas')"
   ]
  },
  {
   "cell_type": "markdown",
   "metadata": {},
   "source": [
    "Como se puede ver, el dataset se ha reducido más la mitad, lo que indica que una gran cantidad de las imágenes estaban \"haciendo bulto\" en nuestro dataset. Ahora, con un conjunto de datos más reducido, el entrenamiento de la red será mucho más rápido."
   ]
  },
  {
   "cell_type": "markdown",
   "metadata": {},
   "source": [
    "##  Binarizar etiquetas"
   ]
  },
  {
   "cell_type": "markdown",
   "metadata": {},
   "source": [
    "Las etiquetas proporcionada por la organización de BraTS 2018 muestran la segmentación del glioma en el cerebro, diferenciando varias partes.\n",
    "\n",
    "Para hacerlo más sencillo, se ha decidido convertir estas etiquetas en binarias, de modo que las imágenes segmentadas sean mapas de 0s y 1s. De este modo, simplemente se identificaría la posición del tumor, sin hacer ninguna distinción de sus partes\n"
   ]
  },
  {
   "cell_type": "code",
   "execution_count": 64,
   "metadata": {},
   "outputs": [],
   "source": [
    "# FUNCIÓN PARA HACER ETIQUETAS BINARIAS\n",
    "# En agradecimientos, incluir a Stack overflow, por salvarnos la vida con las dudas de código\n",
    "\n",
    "def binarizar_etiqueta(etiquetas):\n",
    "    \"\"\"Función a la que se le pasa un array de imágenes segmentadas. \n",
    "    Hace una copia para que no modificar el array original.\n",
    "    Convierte el mapa de píxeles en binario, haciendo 1 cualquier píxel con valor distinto de 0.\"\"\"\n",
    "    \n",
    "    tags = etiquetas.copy()\n",
    "    for tag in tags:\n",
    "        tag[tag > 0] = 1\n",
    "    \n",
    "    return tags"
   ]
  },
  {
   "cell_type": "code",
   "execution_count": 65,
   "metadata": {},
   "outputs": [],
   "source": [
    "tags_bin = binarizar_etiqueta(tags)"
   ]
  },
  {
   "cell_type": "code",
   "execution_count": 73,
   "metadata": {
    "scrolled": true
   },
   "outputs": [
    {
     "name": "stdout",
     "output_type": "stream",
     "text": [
      "Antes de binarizar:\n",
      "[0 0 0 0 0 0 0 0 0 0 0 0 0 0 0 0 0 0 0 0 0 0 0 0 0 0 0 0 0 0 0 0 0 0 0 0 0\n",
      " 0 0 0 0 0 0 0 0 0 0 0 0 0 0 0 0 0 0 0 0 0 2 2 2 2 4 4 4 4 1 1 1 1 1 1 1 1\n",
      " 1 1 1 1 1 1 1 1 1 1 1 1 1 1 1 1 1 1 1 1 4 4 4 4 4 4 0 0 0 0 0 0 0 0 0 0 0\n",
      " 0 0 0 0 0 0 0 0 0 0 0 0 0 0 0 0 0 0 0 0 0 0 0 0 0 0 0 0 0 0 0 0 0 0 0 0 0\n",
      " 0 0 0 0 0 0 0 0 0 0 0 0 0 0 0 0 0 0 0 0 0 0 0 0 0 0 0 0 0 0 0 0 0 0 0 0 0\n",
      " 0 0 0 0 0 0 0 0 0 0 0 0 0 0 0 0 0 0 0 0 0 0 0 0 0 0 0 0 0 0 0 0 0 0 0 0 0\n",
      " 0 0 0 0 0 0 0 0 0 0 0 0 0 0 0 0 0 0]\n",
      "\n",
      "Después de binarizar:\n",
      "[0 0 0 0 0 0 0 0 0 0 0 0 0 0 0 0 0 0 0 0 0 0 0 0 0 0 0 0 0 0 0 0 0 0 0 0 0\n",
      " 0 0 0 0 0 0 0 0 0 0 0 0 0 0 0 0 0 0 0 0 0 1 1 1 1 1 1 1 1 1 1 1 1 1 1 1 1\n",
      " 1 1 1 1 1 1 1 1 1 1 1 1 1 1 1 1 1 1 1 1 1 1 1 1 1 1 0 0 0 0 0 0 0 0 0 0 0\n",
      " 0 0 0 0 0 0 0 0 0 0 0 0 0 0 0 0 0 0 0 0 0 0 0 0 0 0 0 0 0 0 0 0 0 0 0 0 0\n",
      " 0 0 0 0 0 0 0 0 0 0 0 0 0 0 0 0 0 0 0 0 0 0 0 0 0 0 0 0 0 0 0 0 0 0 0 0 0\n",
      " 0 0 0 0 0 0 0 0 0 0 0 0 0 0 0 0 0 0 0 0 0 0 0 0 0 0 0 0 0 0 0 0 0 0 0 0 0\n",
      " 0 0 0 0 0 0 0 0 0 0 0 0 0 0 0 0 0 0]\n"
     ]
    }
   ],
   "source": [
    "print('Antes de binarizar:')\n",
    "print(tags[20][120])\n",
    "print('')\n",
    "print('Después de binarizar:')\n",
    "print(tags_bin[20][120])"
   ]
  },
  {
   "cell_type": "markdown",
   "metadata": {},
   "source": [
    "Observamos que las etiquetas se han hecho binarias. Vamos a mostrar un ejemplo de imagen de cerebro con sus etiquetas correspondientes, la original y la binaria."
   ]
  },
  {
   "cell_type": "code",
   "execution_count": 77,
   "metadata": {},
   "outputs": [
    {
     "data": {
      "text/plain": [
       "<matplotlib.image.AxesImage at 0x7fca724c9240>"
      ]
     },
     "execution_count": 77,
     "metadata": {},
     "output_type": "execute_result"
    },
    {
     "data": {
      "image/png": "[encoded data removed]",
      "text/plain": [
       "<matplotlib.figure.Figure at 0x7fca0f61aac8>"
      ]
     },
     "metadata": {
      "needs_background": "light"
     },
     "output_type": "display_data"
    }
   ],
   "source": [
    "fig = plt.figure(figsize = (10, 9))\n",
    "\n",
    "\n",
    "plt.subplot(1,3, 1)\n",
    "plt.imshow(imgs[30],cmap='gray')\n",
    "\n",
    "plt.subplot(1,3, 2)\n",
    "plt.imshow(tags[30],cmap='gray')\n",
    "\n",
    "plt.subplot(1,3, 3)\n",
    "plt.imshow(tags_bin[30],cmap='gray')"
   ]
  },
  {
   "cell_type": "markdown",
   "metadata": {},
   "source": [
    "Vamos a guardar los arrays obtenidos, de modo que se puedan cargar en futuras ocasiones sin tener que ejecutar todo el código de nuevo."
   ]
  },
  {
   "cell_type": "code",
   "execution_count": 78,
   "metadata": {},
   "outputs": [],
   "source": [
    "np.save('imgs.npy', imgs)\n",
    "np.save('tags.npy', tags)\n",
    "np.save('tags_bin.npy', tags_bin)"
   ]
  },
  {
   "cell_type": "markdown",
   "metadata": {},
   "source": [
    "------"
   ]
  },
  {
   "cell_type": "markdown",
   "metadata": {},
   "source": [
    "## Carga de imágenes y etiquetas binarias (solo si se empieza en este punto)"
   ]
  },
  {
   "cell_type": "code",
   "execution_count": null,
   "metadata": {},
   "outputs": [],
   "source": [
    "# imgs = np.load('imgs_preproc.npy')\n",
    "# tags_bin = np.load('etiq_bin.npy')"
   ]
  },
  {
   "cell_type": "markdown",
   "metadata": {},
   "source": [
    "---"
   ]
  },
  {
   "cell_type": "markdown",
   "metadata": {},
   "source": [
    "## Separación en train y test"
   ]
  },
  {
   "cell_type": "markdown",
   "metadata": {},
   "source": [
    "Para entrenar nuestra red, haremos una partición de train/test del 75/25 %.\n",
    "Tomaremos imágenes aleatoriamente del dataset global, junto con su etiqueta correspondiente."
   ]
  },
  {
   "cell_type": "code",
   "execution_count": 79,
   "metadata": {},
   "outputs": [],
   "source": [
    "import random\n",
    "\n",
    "n = list(range(len(imgs)))\n",
    "# selección aleatoria del 75% de los elementos contenidos en n\n",
    "ind_train = random.sample(n, round(0.75*len(n))) \n",
    "# elementos ordenados\n",
    "ind_train.sort()\n",
    "# mete en una lista los índices que no están en ind_train\n",
    "ind_test = [item for item in n if item not in ind_train] "
   ]
  },
  {
   "cell_type": "code",
   "execution_count": 80,
   "metadata": {},
   "outputs": [
    {
     "name": "stdout",
     "output_type": "stream",
     "text": [
      "10784 elementos de train\n",
      "3595 elementos de test\n"
     ]
    }
   ],
   "source": [
    "print(len(ind_train), 'elementos de train')\n",
    "print(len(ind_test), 'elementos de test')"
   ]
  },
  {
   "cell_type": "code",
   "execution_count": 81,
   "metadata": {},
   "outputs": [],
   "source": [
    "imgs_train = imgs[ind_train]\n",
    "imgs_test = imgs[ind_test]\n",
    "\n",
    "tags_train = tags_bin[ind_train]\n",
    "tags_test = tags_bin[ind_test]"
   ]
  },
  {
   "cell_type": "code",
   "execution_count": 85,
   "metadata": {},
   "outputs": [
    {
     "data": {
      "text/plain": [
       "<matplotlib.image.AxesImage at 0x7fca725c7940>"
      ]
     },
     "execution_count": 85,
     "metadata": {},
     "output_type": "execute_result"
    },
    {
     "data": {
      "image/png": "[encoded data removed]",
      "text/plain": [
       "<matplotlib.figure.Figure at 0x7fca72390dd8>"
      ]
     },
     "metadata": {
      "needs_background": "light"
     },
     "output_type": "display_data"
    }
   ],
   "source": [
    "fig = plt.figure(figsize = (10, 9))\n",
    "\n",
    "plt.subplot(1,2, 1)\n",
    "plt.imshow(imgs_train[165],cmap='gray')\n",
    "\n",
    "plt.subplot(1,2, 2)\n",
    "plt.imshow(tags_train[165],cmap='gray')"
   ]
  },
  {
   "cell_type": "code",
   "execution_count": 86,
   "metadata": {},
   "outputs": [],
   "source": [
    "np.save('x_train', imgs_train)\n",
    "np.save('x_test', imgs_test)"
   ]
  },
  {
   "cell_type": "code",
   "execution_count": 87,
   "metadata": {},
   "outputs": [],
   "source": [
    "np.save('y_train', tags_train)\n",
    "np.save('y_test', tags_test)"
   ]
  },
  {
   "cell_type": "code",
   "execution_count": null,
   "metadata": {},
   "outputs": [],
   "source": []
  }
 ],
 "metadata": {
  "kernelspec": {
   "display_name": "Python 3",
   "language": "python",
   "name": "python3"
  },
  "language_info": {
   "codemirror_mode": {
    "name": "ipython",
    "version": 3
   },
   "file_extension": ".py",
   "mimetype": "text/x-python",
   "name": "python",
   "nbconvert_exporter": "python",
   "pygments_lexer": "ipython3",
   "version": "3.6.7"
  }
 },
 "nbformat": 4,
 "nbformat_minor": 2
}
